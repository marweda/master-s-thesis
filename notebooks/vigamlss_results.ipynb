{
 "cells": [
  {
   "cell_type": "markdown",
   "metadata": {},
   "source": [
    "# Imports"
   ]
  },
  {
   "cell_type": "code",
   "execution_count": null,
   "metadata": {},
   "outputs": [
    {
     "name": "stderr",
     "output_type": "stream",
     "text": [
      "2025-02-06 14:52:57.132804: E external/local_xla/xla/stream_executor/cuda/cuda_fft.cc:477] Unable to register cuFFT factory: Attempting to register factory for plugin cuFFT when one has already been registered\n",
      "WARNING: All log messages before absl::InitializeLog() is called are written to STDERR\n",
      "E0000 00:00:1738849977.182390  161835 cuda_dnn.cc:8310] Unable to register cuDNN factory: Attempting to register factory for plugin cuDNN when one has already been registered\n",
      "E0000 00:00:1738849977.196740  161835 cuda_blas.cc:1418] Unable to register cuBLAS factory: Attempting to register factory for plugin cuBLAS when one has already been registered\n"
     ]
    }
   ],
   "source": [
    "%load_ext autoreload\n",
    "%autoreload 2\n",
    "import os\n",
    "import pickle as pkl\n",
    "import sys\n",
    "\n",
    "import arviz as az\n",
    "from jax import numpy as jnp\n",
    "from jax.random import PRNGKey\n",
    "import numpy as np\n",
    "import pandas as pd\n",
    "from optax import adam\n",
    "\n",
    "sys.path.append(os.path.abspath(\"..\"))\n",
    "from scripts.notebook_utils import plot_elbo, plot_true_predicted_comparison, plot_regression_results, plot_synthetic_data\n",
    "from scripts.vigamlss import Normal, Gamma, CustomGEV,DataPreperator, DegenerateNormal, FullCovarianceNormal, MeanFieldNormal, HalfCauchy, CustomGPD\n",
    "from scripts.vigamlss.utils.transformations import TransformationFunctions"
   ]
  },
  {
   "cell_type": "markdown",
   "metadata": {},
   "source": [
    "# Save Dirs"
   ]
  },
  {
   "cell_type": "code",
   "execution_count": null,
   "metadata": {},
   "outputs": [],
   "source": [
    "pickle_dir = sys.path[-1] + \"/data/gpd\""
   ]
  }
 ],
 "metadata": {
  "language_info": {
   "name": "python"
  }
 },
 "nbformat": 4,
 "nbformat_minor": 2
}
